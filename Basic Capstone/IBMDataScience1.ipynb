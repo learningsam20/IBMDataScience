{
 "cells": [
  {
   "cell_type": "code",
   "execution_count": 21,
   "metadata": {},
   "outputs": [],
   "source": [
    "# IBM Data Science\n",
    "# https://github.com/learningsam20/IBMDataScience\n",
    "# https://www.coursera.org/learn/applied-data-science-capstone/peer/I1bDq/segmenting-and-clustering-neighborhoods-in-toronto\n",
    "#\n",
    "from bs4 import BeautifulSoup\n",
    "import geocoder\n",
    "import pandas as pd\n",
    "import urllib3\n",
    "import requests"
   ]
  },
  {
   "cell_type": "code",
   "execution_count": 50,
   "metadata": {},
   "outputs": [
    {
     "name": "stdout",
     "output_type": "stream",
     "text": [
      "Requirement already satisfied: beautifulsoup4 in g:\\installs\\python\\python37\\lib\\site-packages (4.9.1)\n",
      "Requirement already satisfied: soupsieve>1.2 in g:\\installs\\python\\python37\\lib\\site-packages (from beautifulsoup4) (2.0.1)\n",
      "Requirement already satisfied: geocoder in g:\\installs\\python\\python37\\lib\\site-packages (1.38.1)\n",
      "Requirement already satisfied: ratelim in g:\\installs\\python\\python37\\lib\\site-packages (from geocoder) (0.1.6)\n",
      "Requirement already satisfied: requests in g:\\installs\\python\\python37\\lib\\site-packages (from geocoder) (2.22.0)\n",
      "Requirement already satisfied: future in g:\\installs\\python\\python37\\lib\\site-packages (from geocoder) (0.17.1)\n",
      "Requirement already satisfied: click in g:\\installs\\python\\python37\\lib\\site-packages (from geocoder) (7.1.2)\n",
      "Requirement already satisfied: six in g:\\installs\\python\\python37\\lib\\site-packages (from geocoder) (1.12.0)\n",
      "Requirement already satisfied: decorator in c:\\users\\sameer\\appdata\\roaming\\python\\python37\\site-packages (from ratelim->geocoder) (4.4.1)\n",
      "Requirement already satisfied: idna<2.9,>=2.5 in c:\\users\\sameer\\appdata\\roaming\\python\\python37\\site-packages (from requests->geocoder) (2.6)\n",
      "Requirement already satisfied: certifi>=2017.4.17 in g:\\installs\\python\\python37\\lib\\site-packages (from requests->geocoder) (2019.3.9)\n",
      "Requirement already satisfied: urllib3!=1.25.0,!=1.25.1,<1.26,>=1.21.1 in c:\\users\\sameer\\appdata\\roaming\\python\\python37\\site-packages (from requests->geocoder) (1.22)\n",
      "Requirement already satisfied: chardet<3.1.0,>=3.0.2 in g:\\installs\\python\\python37\\lib\\site-packages (from requests->geocoder) (3.0.4)\n",
      "Requirement already satisfied: pandas in g:\\installs\\python\\python37\\lib\\site-packages (0.23.4)\n",
      "Requirement already satisfied: numpy>=1.9.0 in g:\\installs\\python\\python37\\lib\\site-packages (from pandas) (1.17.4)\n",
      "Requirement already satisfied: pytz>=2011k in g:\\installs\\python\\python37\\lib\\site-packages (from pandas) (2018.9)\n",
      "Requirement already satisfied: python-dateutil>=2.5.0 in g:\\installs\\python\\python37\\lib\\site-packages (from pandas) (2.7.5)\n",
      "Requirement already satisfied: six>=1.5 in g:\\installs\\python\\python37\\lib\\site-packages (from python-dateutil>=2.5.0->pandas) (1.12.0)\n",
      "Requirement already satisfied: urllib3 in c:\\users\\sameer\\appdata\\roaming\\python\\python37\\site-packages (1.22)\n",
      "Requirement already satisfied: requests in g:\\installs\\python\\python37\\lib\\site-packages (2.22.0)\n",
      "Requirement already satisfied: chardet<3.1.0,>=3.0.2 in g:\\installs\\python\\python37\\lib\\site-packages (from requests) (3.0.4)\n",
      "Requirement already satisfied: certifi>=2017.4.17 in g:\\installs\\python\\python37\\lib\\site-packages (from requests) (2019.3.9)\n",
      "Requirement already satisfied: urllib3!=1.25.0,!=1.25.1,<1.26,>=1.21.1 in c:\\users\\sameer\\appdata\\roaming\\python\\python37\\site-packages (from requests) (1.22)\n",
      "Requirement already satisfied: idna<2.9,>=2.5 in c:\\users\\sameer\\appdata\\roaming\\python\\python37\\site-packages (from requests) (2.6)\n"
     ]
    }
   ],
   "source": [
    "! pip install beautifulsoup4\n",
    "! pip install geocoder\n",
    "! pip install pandas\n",
    "! pip install urllib3\n",
    "! pip install requests"
   ]
  },
  {
   "cell_type": "code",
   "execution_count": 44,
   "metadata": {},
   "outputs": [
    {
     "name": "stderr",
     "output_type": "stream",
     "text": [
      "C:\\Users\\Sameer\\AppData\\Roaming\\Python\\Python37\\site-packages\\urllib3\\connectionpool.py:858: InsecureRequestWarning: Unverified HTTPS request is being made. Adding certificate verification is strongly advised. See: https://urllib3.readthedocs.io/en/latest/advanced-usage.html#ssl-warnings\n",
      "  InsecureRequestWarning)\n"
     ]
    }
   ],
   "source": [
    "# set defaults for pandas dataframe\n",
    "pd.set_option('display.max_columns', None)\n",
    "pd.set_option('display.max_rows', None)\n",
    "\n",
    "# parse the wiki\n",
    "wikiurl = \"https://en.wikipedia.org/wiki/List_of_postal_codes_of_Canada:_M\"\n",
    "http = urllib3.PoolManager()\n",
    "html = http.request('GET', wikiurl).data.decode('utf-8')"
   ]
  },
  {
   "cell_type": "code",
   "execution_count": 46,
   "metadata": {},
   "outputs": [
    {
     "name": "stdout",
     "output_type": "stream",
     "text": [
      "dataframe loaded with 103 records\n"
     ]
    }
   ],
   "source": [
    "# parse the DOM using beautiful soup\n",
    "soup = BeautifulSoup(html)\n",
    "# find table and get all rows within the table\n",
    "datatable=soup.find(\"table\",attrs={\"class\":\"wikitable\"}).findAll(\"tr\")\n",
    "# create the dataframe for storing parsed data\n",
    "df=pd.DataFrame(columns=(\"PostalCode\",\"Borough\",\"Neighborhood\"))\n",
    "alldata=[]\n",
    "for r in datatable:\n",
    "    d=r.findAll(\"td\")\n",
    "    v={}\n",
    "    # only include rows having Borough not equal to not assigned\n",
    "    if len(d)>0 and d[1].text.strip() !=\"Not assigned\":\n",
    "        v[\"PostalCode\"]=d[0].text.strip()\n",
    "        v[\"Borough\"]=d[1].text.strip()\n",
    "        # copy Borough to Neighborhood if it is not assigned ot empty\n",
    "        v[\"Neighborhood\"]=d[1].text.strip() if d[2].text.strip()==\"Not assigned\" else d[2].text.strip()\n",
    "        alldata.append(v)\n",
    "df=pd.DataFrame(alldata)\n",
    "print(\"dataframe loaded with \" + str(len(df)) + \" records\")"
   ]
  },
  {
   "cell_type": "code",
   "execution_count": 47,
   "metadata": {},
   "outputs": [
    {
     "name": "stdout",
     "output_type": "stream",
     "text": [
      "  PostalCode      Borough                            Neighborhood\n",
      "0        M1B  Scarborough                          Malvern, Rouge\n",
      "1        M1C  Scarborough  Rouge Hill, Port Union, Highland Creek\n",
      "2        M1E  Scarborough       Guildwood, Morningside, West Hill\n",
      "3        M1G  Scarborough                                  Woburn\n",
      "4        M1H  Scarborough                               Cedarbrae\n"
     ]
    }
   ],
   "source": [
    "# group by the PostalCode and Borough and combined Neighborhood\n",
    "dfg=pd.DataFrame(df.groupby([\"PostalCode\",\"Borough\"],as_index=False).apply(lambda x: \"%s\" % ', '.join(x.Neighborhood)).reset_index())\n",
    "dfg.columns=[\"PostalCode\",\"Borough\",\"Neighborhood\"]\n",
    "print(dfg.head())"
   ]
  },
  {
   "cell_type": "code",
   "execution_count": 48,
   "metadata": {},
   "outputs": [
    {
     "name": "stdout",
     "output_type": "stream",
     "text": [
      "(103, 3)\n"
     ]
    }
   ],
   "source": [
    "#df.reset_index(True)\n",
    "print(dfg.shape)\n",
    "#print(dfg.loc[dfg['PostalCode'] == \"M5A\"])\n",
    "#print(dfg.loc[dfg['PostalCode'] == \"M9V\"])"
   ]
  }
 ],
 "metadata": {
  "kernelspec": {
   "display_name": "Python 3",
   "language": "python",
   "name": "python3"
  },
  "language_info": {
   "codemirror_mode": {
    "name": "ipython",
    "version": 3
   },
   "file_extension": ".py",
   "mimetype": "text/x-python",
   "name": "python",
   "nbconvert_exporter": "python",
   "pygments_lexer": "ipython3",
   "version": "3.7.2"
  }
 },
 "nbformat": 4,
 "nbformat_minor": 4
}
