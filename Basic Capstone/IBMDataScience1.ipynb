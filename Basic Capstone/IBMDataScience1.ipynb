{
 "cells": [
  {
   "cell_type": "markdown",
   "metadata": {},
   "source": [
    "# Study of Toronto Boroughs"
   ]
  },
  {
   "cell_type": "markdown",
   "metadata": {},
   "source": [
    "## Set dependencies"
   ]
  },
  {
   "cell_type": "code",
   "execution_count": null,
   "metadata": {},
   "outputs": [],
   "source": [
    "# IBM Data Science\n",
    "# https://github.com/learningsam20/IBMDataScience\n",
    "# https://www.coursera.org/learn/applied-data-science-capstone/peer/I1bDq/segmenting-and-clustering-neighborhoods-in-toronto\n",
    "#\n",
    "from bs4 import BeautifulSoup\n",
    "import geocoder\n",
    "import pandas as pd\n",
    "import urllib3\n",
    "import requests\n",
    "from geopy.geocoders import Nominatim\n",
    "import folium\n",
    "from sklearn.cluster import KMeans\n",
    "import numpy as np\n",
    "import matplotlib.cm as cm\n",
    "import matplotlib.colors as colors"
   ]
  },
  {
   "cell_type": "code",
   "execution_count": null,
   "metadata": {},
   "outputs": [],
   "source": [
    "! pip install beautifulsoup4\n",
    "! pip install geocoder\n",
    "! pip install pandas\n",
    "! pip install urllib3\n",
    "! pip install requests\n",
    "! pip install geopy\n",
    "! pip install folium\n",
    "! pip install sklearn\n",
    "! pip install numpy\n",
    "! pip install matplotlib"
   ]
  },
  {
   "cell_type": "markdown",
   "metadata": {},
   "source": [
    "# Generate dataframe for processing\n",
    "\n",
    "The notebook will in general follow this procedure\n",
    "* Scrape the webpage from Wiki\n",
    "* Transform the unstructured data into dataframe with relevant attributes\n",
    "* Data transformation to clean, merge the neghborhoods\n",
    "* Get the geo-coordinates for the boroughs\n",
    "* Create clusters based on the borough geo-coordinates\n",
    "* Visualize the clusters on the geographical map"
   ]
  },
  {
   "cell_type": "markdown",
   "metadata": {},
   "source": [
    "## Scrape data from wiki page"
   ]
  },
  {
   "cell_type": "code",
   "execution_count": null,
   "metadata": {},
   "outputs": [],
   "source": [
    "# set defaults for pandas dataframe\n",
    "pd.set_option('display.max_columns', None)\n",
    "pd.set_option('display.max_rows', None)\n",
    "\n",
    "# parse the wiki\n",
    "wikiurl = \"https://en.wikipedia.org/wiki/List_of_postal_codes_of_Canada:_M\"\n",
    "http = urllib3.PoolManager()\n",
    "html = http.request('GET', wikiurl).data.decode('utf-8')"
   ]
  },
  {
   "cell_type": "markdown",
   "metadata": {},
   "source": [
    "## Parse DOM to populate the dataframe"
   ]
  },
  {
   "cell_type": "code",
   "execution_count": null,
   "metadata": {},
   "outputs": [],
   "source": [
    "# parse the DOM using beautiful soup\n",
    "soup = BeautifulSoup(html)\n",
    "# find table and get all rows within the table\n",
    "datatable=soup.find(\"table\",attrs={\"class\":\"wikitable\"}).findAll(\"tr\")\n",
    "# create the dataframe for storing parsed data\n",
    "df=pd.DataFrame(columns=(\"PostalCode\",\"Borough\",\"Neighborhood\"))\n",
    "alldata=[]\n",
    "for r in datatable:\n",
    "    d=r.findAll(\"td\")\n",
    "    v={}\n",
    "    # only include rows having Borough not equal to not assigned\n",
    "    if len(d)>0 and d[1].text.strip() !=\"Not assigned\":\n",
    "        v[\"PostalCode\"]=d[0].text.strip()\n",
    "        v[\"Borough\"]=d[1].text.strip()\n",
    "        # copy Borough to Neighborhood if it is not assigned ot empty\n",
    "        v[\"Neighborhood\"]=d[1].text.strip() if d[2].text.strip()==\"Not assigned\" else d[2].text.strip()\n",
    "        alldata.append(v)\n",
    "df=pd.DataFrame(alldata)\n",
    "print(\"dataframe loaded with \" + str(len(df)) + \" records\")"
   ]
  },
  {
   "cell_type": "markdown",
   "metadata": {},
   "source": [
    "## Merge multiple neighborhoods for same borough"
   ]
  },
  {
   "cell_type": "code",
   "execution_count": null,
   "metadata": {},
   "outputs": [],
   "source": [
    "# group by the PostalCode and Borough and combined Neighborhood\n",
    "dfg=pd.DataFrame(df.groupby([\"PostalCode\",\"Borough\"],as_index=False).apply(lambda x: \"%s\" % ', '.join(x.Neighborhood)).reset_index())\n",
    "dfg.columns=[\"PostalCode\",\"Borough\",\"Neighborhood\"]\n",
    "print(dfg.head())\n",
    "#df.reset_index(True)\n",
    "print(dfg.shape)\n",
    "#print(dfg.loc[dfg['PostalCode'] == \"M5A\"])\n",
    "#print(dfg.loc[dfg['PostalCode'] == \"M9V\"])"
   ]
  },
  {
   "cell_type": "markdown",
   "metadata": {},
   "source": [
    "## Get the geo coordinates for various postal codes"
   ]
  },
  {
   "cell_type": "code",
   "execution_count": null,
   "metadata": {},
   "outputs": [],
   "source": [
    "# load geocoder\n",
    "geocsvurl=\"https://cocl.us/Geospatial_data\"\n",
    "dfc=pd.read_csv(geocsvurl)\n",
    "print(dfc.head())"
   ]
  },
  {
   "cell_type": "markdown",
   "metadata": {},
   "source": [
    "## Merge geo coordinates with original dataframe"
   ]
  },
  {
   "cell_type": "code",
   "execution_count": null,
   "metadata": {},
   "outputs": [],
   "source": [
    "# append latitude, longitude to the existing dataframe\n",
    "dfm=pd.merge(dfg,dfc,left_on=\"PostalCode\",right_on=\"Postal Code\",how=\"left\").drop(\"Postal Code\",axis=1)\n",
    "print(dfm.head())"
   ]
  },
  {
   "cell_type": "markdown",
   "metadata": {},
   "source": [
    "## Subset the data frame for boroughs having \"Toronto\""
   ]
  },
  {
   "cell_type": "code",
   "execution_count": null,
   "metadata": {},
   "outputs": [],
   "source": [
    "# Get central address\n",
    "address = 'Toronto, Canada'\n",
    "\n",
    "# include only those boroughs that contain word Torronto\n",
    "dft=dfm[dfm[\"Borough\"].str.contains(\"Toronto\")]\n",
    "\n",
    "geolocator = Nominatim()\n",
    "location = geolocator.geocode(address)\n",
    "latitude = location.latitude\n",
    "longitude = location.longitude\n",
    "print('The geograpical coordinate of Toronto are {}, {}.'.format(latitude, longitude))"
   ]
  },
  {
   "cell_type": "markdown",
   "metadata": {},
   "source": [
    "## Plot the geography map to visualize the boroughs"
   ]
  },
  {
   "cell_type": "code",
   "execution_count": null,
   "metadata": {},
   "outputs": [],
   "source": [
    "#create map\n",
    "map_toronto = folium.Map(location=[latitude, longitude], zoom_start=10)\n",
    "\n",
    "# add markers to map\n",
    "for lat, lng, borough, neighborhood in zip(dft['Latitude'], dft['Longitude'], dft['Borough'], dft['Neighborhood']):\n",
    "    label = '{}, {}'.format(neighborhood, borough)\n",
    "    label = folium.Popup(label, parse_html=True)\n",
    "    folium.CircleMarker(\n",
    "        [lat, lng],\n",
    "        radius=5,\n",
    "        popup=label,\n",
    "        color='blue',\n",
    "        fill=True,\n",
    "        fill_color='#3186cc',\n",
    "        fill_opacity=0.7,\n",
    "        parse_html=False).add_to(map_toronto)  \n",
    "    \n",
    "map_toronto"
   ]
  },
  {
   "cell_type": "markdown",
   "metadata": {},
   "source": [
    "## Cluster the neighborhoods"
   ]
  },
  {
   "cell_type": "code",
   "execution_count": null,
   "metadata": {},
   "outputs": [],
   "source": [
    "# clustering\n",
    "kclusters = 5 if len(dft[\"Borough\"].unique()) < 5 else len(dft[\"Borough\"].unique()) \n",
    "toronto_grouped_clustering = dft.copy(deep=True).drop([\"Neighborhood\",\"Borough\",\"PostalCode\"], 1)\n",
    "\n",
    "# run k-means clustering\n",
    "kmeans = KMeans(n_clusters=kclusters, random_state=0).fit(toronto_grouped_clustering)\n",
    "\n",
    "# save cluster labels generated for each row in the dataframe\n",
    "dft[\"Cluster\"] = kmeans.labels_"
   ]
  },
  {
   "cell_type": "markdown",
   "metadata": {},
   "source": [
    "## Plot the established clusters on map and visualize"
   ]
  },
  {
   "cell_type": "code",
   "execution_count": null,
   "metadata": {},
   "outputs": [],
   "source": [
    "# create map\n",
    "map_clusters = folium.Map(location=[latitude, longitude], zoom_start=11)\n",
    "\n",
    "# set color scheme for the clusters\n",
    "x = np.arange(kclusters)\n",
    "ys = [i+x+(i*x)**2+200 for i in range(kclusters)]\n",
    "colors_array = cm.rainbow(np.linspace(0, 1, len(ys)))\n",
    "rainbow = [colors.rgb2hex(i) for i in colors_array]\n",
    "\n",
    "# add markers to the map\n",
    "markers_colors = []\n",
    "for lat, lon, poi, cluster in zip(dft['Latitude'], dft['Longitude'], dft['Neighborhood'], dft['Cluster']):\n",
    "    label = folium.Popup(str(poi) + ' Cluster ' + str(cluster), parse_html=True)\n",
    "    folium.CircleMarker(\n",
    "        [lat, lon],\n",
    "        radius=5,\n",
    "        popup=label,\n",
    "        #color=rainbow[cluster-1],\n",
    "        fill=True,\n",
    "        fill_color=rainbow[cluster-1],\n",
    "        fill_opacity=0.7).add_to(map_clusters)\n",
    "       \n",
    "map_clusters"
   ]
  }
 ],
 "metadata": {
  "kernelspec": {
   "display_name": "Python 3",
   "language": "python",
   "name": "python3"
  },
  "language_info": {
   "codemirror_mode": {
    "name": "ipython",
    "version": 3
   },
   "file_extension": ".py",
   "mimetype": "text/x-python",
   "name": "python",
   "nbconvert_exporter": "python",
   "pygments_lexer": "ipython3",
   "version": "3.7.2"
  }
 },
 "nbformat": 4,
 "nbformat_minor": 4
}
